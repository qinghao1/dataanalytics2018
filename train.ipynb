{
 "cells": [
  {
   "cell_type": "markdown",
   "metadata": {},
   "source": [
    "# Data Analytics 2018\n",
    "## Weather data: Radar data to daily rainfall\n",
    "---\n",
    "To be run on https://www.crestle.com/"
   ]
  },
  {
   "cell_type": "code",
   "execution_count": null,
   "metadata": {},
   "outputs": [],
   "source": [
    "#Imports\n",
    "from matplotlib import pyplot as plt\n",
    "%matplotlib inline\n",
    "import numpy as np, seaborn as sns, random, sys\n",
    "from keras.models import *\n",
    "from keras.layers import *\n",
    "from keras.optimizers import *\n",
    "from keras.callbacks import *"
   ]
  },
  {
   "cell_type": "code",
   "execution_count": null,
   "metadata": {},
   "outputs": [],
   "source": [
    "#Read data\n",
    "\n",
    "#Train, test data and labels should be present as 4 .npy files\n",
    "#See generate_data.ipynb\n",
    "\n",
    "train_data_path = 'data/train_data.npy'\n",
    "train_label_path = 'data/train_label.npy'\n",
    "\n",
    "train_data = np.load(train_data_path)\n",
    "train_label = np.load(train_label_path)\n",
    "\n",
    "# test_data_path = 'data/test_data.npy'\n",
    "# test_label_path = 'data/test_label.npy'\n",
    "# test_data = np.load(test_data_path)\n",
    "# test_label = np.load(test_label_path)"
   ]
  },
  {
   "cell_type": "code",
   "execution_count": null,
   "metadata": {},
   "outputs": [],
   "source": [
    "#Neural network model\n",
    "class NN:\n",
    "    \n",
    "    num_classes = 5 #Change this?\n",
    "    \n",
    "    def __init__(self, data):\n",
    "        inputs = Input(data.shape[1:-1])\n",
    "        \n",
    "        #Is data time-series? If so, use LSTM neurons (RNN)\n",
    "        layer1 = Dense(???, activation = 'selu', use_bias = True, kernel_initializer = 'he_normal')(inputs) #How many outputs?\n",
    "        layer2 = Dense(???, activation = 'selu')(layer1)\n",
    "        layer3 = Dense(???, activation = 'selu')(layer2)\n",
    "        layer4 = Dense(???, activation = 'selu')(layer3)\n",
    "        "
   ]
  }
 ],
 "metadata": {
  "kernelspec": {
   "display_name": "Python 3",
   "language": "python",
   "name": "python3"
  },
  "language_info": {
   "codemirror_mode": {
    "name": "ipython",
    "version": 3
   },
   "file_extension": ".py",
   "mimetype": "text/x-python",
   "name": "python",
   "nbconvert_exporter": "python",
   "pygments_lexer": "ipython3",
   "version": "3.6.4"
  }
 },
 "nbformat": 4,
 "nbformat_minor": 2
}
