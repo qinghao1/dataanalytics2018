{
  "cells": [
    {
      "cell_type": "code",
      "source": [
        "import numpy as np\n",
        "import matplotlib.pyplot as plt\n",
        "import random\n",
        "\n",
        "class Operation:\n",
        "    def __init__(self, forward, backward, eta=None, weights=None, fweights=None):\n",
        "        self.in_vars = None;     self.out_vars = None\n",
        "        self.in_error = None;    self.out_error = None\n",
        "        self.fforward = forward; self.fbackward = backward\n",
        "        self.eta = eta\n",
        "        \n",
        "        self.weights = weights;  self.fweights = fweights\n",
        "        self.weight_update = None\n",
        "        \n",
        "        if self.weights is not None:\n",
        "            self.weights = np.array(self.weights)\n",
        "            if self.fweights is None:\n",
        "                raise Exception(\"need to pass weight derivative\")\n",
        "            else:\n",
        "                self.fweights = np.array(self.fweights)\n",
        "            \n",
        "            if self.weights.shape != self.fweights.shape:\n",
        "                raise Exception(\"shape of weights and fweights not same\")\n",
        "\n",
        "    def forward(self):\n",
        "        if self.in_vars is None:\n",
        "            raise Exception(\"forward input not initialized\")\n",
        "        self.in_vars = np.array(self.in_vars)\n",
        "        if self.weights is None:\n",
        "            self.out_vars = np.array(self.fforward(self.in_vars))\n",
        "        else:\n",
        "            self.out_vars = np.array(self.fforward(self.in_vars, self.weights))\n",
        "    \n",
        "    def backward(self, weight_index=None):\n",
        "        if self.in_error is None:\n",
        "            raise Exception(\"backward input not initialized\")\n",
        "        if self.out_vars is None:\n",
        "            raise Exception(\"do a forward pass first\")\n",
        "        self.in_error = np.array(self.in_error)\n",
        "        if self.weights is None:\n",
        "            self.out_error = np.array(self.fbackward(self.in_vars) * self.in_error)\n",
        "        else:\n",
        "            self.out_error = np.array(self.fbackward(self.in_vars,self.weights) * self.in_error)\n",
        "        \n",
        "        self.update()\n",
        "        \n",
        "    def grad_descent(self):\n",
        "        w = self.weights\n",
        "        fw = self.fweights\n",
        "        #dw = np.array([fw.flatten()[i](self.in_vars[:,i],self.weights) for i in np.arange(np.size(fw))])\n",
        "        #dw = dw.reshape(fw.shape)\n",
        "        \n",
        "        dw = np.array(fw[0](self.in_vars,self.weights))\n",
        "        return self.weights - np.sum(self.eta * dw * self.in_error,0)\n",
        "    \n",
        "    def update(self):\n",
        "        if self.weights is None:\n",
        "            return\n",
        "        self.weights = self.grad_descent()\n",
        "        \n",
        "class Path:\n",
        "    def __init__(self, ops, inputs, labels):\n",
        "        self.ops = ops\n",
        "        self.inputs = np.array(inputs)\n",
        "        self.labels = np.array(labels)\n",
        "        self.risk = None\n",
        "        self.risk_error = None\n",
        "        if self.inputs.shape != self.labels.shape:\n",
        "            raise Exception(\"inputs and labels need to have same dimensions\")\n",
        "        \n",
        "    def forward_risk(self,pred,label):\n",
        "        return np.sum((pred - label)**2) / np.size(pred) / 2\n",
        "    \n",
        "    def backward_risk(self,risk,risk_input):\n",
        "        return np.sum(self.ops[-1].out_vars - self.labels) / np.size(self.labels)\n",
        "    \n",
        "    def forward(self):\n",
        "        self.ops[0].in_vars = self.inputs\n",
        "        for n, op in enumerate(self.ops[:-1]):\n",
        "            op.forward()\n",
        "            self.ops[n+1].in_vars = op.out_vars\n",
        "            \n",
        "        self.ops[-1].forward()\n",
        "        self.risk = self.forward_risk(self.ops[-1].out_vars, self.labels)\n",
        "        return [self.ops[-1].out_vars, self.risk]\n",
        "    \n",
        "    def backward(self):\n",
        "        if self.risk is None:\n",
        "            raise Exception(\"run forward pass first\")\n",
        "\n",
        "        self.risk_error = self.backward_risk(self.risk,self.ops[-1].out_vars)\n",
        "        self.ops[-1].in_error = self.risk_error\n",
        "        \n",
        "        for n, op in reversed(list(enumerate(self.ops))[1:]):\n",
        "            op.backward()\n",
        "            self.ops[n-1].in_error = op.out_error\n",
        "\n",
        "        self.ops[0].backward()\n",
        "\n\n"
      ],
      "outputs": [],
      "execution_count": 2,
      "metadata": {
        "inputHidden": false,
        "outputHidden": false,
        "scrolled": false
      }
    },
    {
      "cell_type": "code",
      "source": [
        "# Generate labels: y=Ae^(Bx)\n",
        "# x: inputs, y: labels\n",
        "A = 3; B = 0.34\n",
        "x = np.arange(10)\n",
        "y = A*np.exp(B*x)\n",
        "y += random.uniform(len(y),0.5)     # add some noise to label\n",
        "\n",
        "# Define operations\n",
        "# op1: y=B*x, op2: y=e^x, op3: y=A*x\n",
        "op1 = Operation(lambda x,w: np.array(x)*w,   lambda x,w: w,  0.000001,   [0.2],  [lambda x,w: x])    # B\n",
        "op2 = Operation(lambda x  : np.exp(x),       lambda x  : np.exp(x))               \n",
        "op3 = Operation(lambda x,w: np.array(x)*w,   lambda x,w: w,  0.0001,     [2],    [lambda x,w: x])    # A\n",
        "\n",
        "# Link operations together in a path\n",
        "# x -> op1 -> op2 -> op3 -> euclideanloss(x,y)\n",
        "p = Path([op1,op2,op3],x,y)\n",
        "\n",
        "loss = []   # empty list to store loss values as training progresses\n",
        "\n",
        "# Perform 50 iterations of gradient descent\n",
        "for i in np.arange(50):\n",
        "    new = p.forward()\n",
        "    p.backward()\n",
        "    loss.append(new[1])\n",
        "\n",
        "plt.plot(loss)\n",
        "\n",
        "y_hat = new[0]  # this stores the final output by the model\n",
        "plt.figure()    # plot labels and model predictions in a separate figure\n",
        "plt.plot(x,y);\n",
        "plt.plot(x,y_hat);\n",
        "\n",
        "print(\"Param A: \" + str(op3.weights))\n",
        "print(\"Param B: \" + str(op1.weights))\n",
        "print(\"Loss: \" + str(loss[-1]))"
      ],
      "outputs": [
        {
          "output_type": "stream",
          "name": "stdout",
          "text": [
            "Param A: [0.9065746]\n",
            "Param B: [-1.14054896]\n",
            "Loss: 638.0341926756935\n"
          ]
        },
        {
          "output_type": "display_data",
          "data": {
            "image/png": "[encoded data removed]",
            "text/plain": [
              "<matplotlib.figure.Figure at 0x17b09458588>"
            ]
          },
          "metadata": {}
        },
        {
          "output_type": "display_data",
          "data": {
            "image/png": "[encoded data removed]",
            "text/plain": [
              "<matplotlib.figure.Figure at 0x17b0eb57400>"
            ]
          },
          "metadata": {}
        }
      ],
      "execution_count": 44,
      "metadata": {
        "inputHidden": false,
        "outputHidden": false,
        "scrolled": false
      }
    },
    {
      "cell_type": "code",
      "source": [],
      "outputs": [],
      "execution_count": null,
      "metadata": {
        "inputHidden": false,
        "outputHidden": false,
        "scrolled": false
      }
    }
  ],
  "metadata": {
    "kernel_info": {
      "name": "python3"
    },
    "kernelspec": {
      "name": "python3",
      "language": "python",
      "display_name": "Python 3"
    },
    "language_info": {
      "name": "python",
      "version": "3.6.4",
      "mimetype": "text/x-python",
      "codemirror_mode": {
        "name": "ipython",
        "version": 3
      },
      "pygments_lexer": "ipython3",
      "nbconvert_exporter": "python",
      "file_extension": ".py"
    },
    "nteract": {
      "version": "0.8.4"
    }
  },
  "nbformat": 4,
  "nbformat_minor": 4
}